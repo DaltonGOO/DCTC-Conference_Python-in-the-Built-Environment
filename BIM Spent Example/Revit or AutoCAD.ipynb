{
 "cells": [
  {
   "cell_type": "markdown",
   "id": "02911936",
   "metadata": {},
   "source": [
    "### revit and autocad project usage"
   ]
  },
  {
   "cell_type": "code",
   "execution_count": 1,
   "id": "10294c91",
   "metadata": {},
   "outputs": [],
   "source": [
    "# open source Python module that makes accessing ODBC databases simple\n",
    "import pyodbc\n",
    "\n",
    "# open source library written for data manipulation and analysis\n",
    "import pandas as pd\n",
    "\n",
    "# NumPy is a library for support for large, multi-dimensional arrays and matrices, along with a large collection of high-level mathematical functions to operate on these arrays.\n",
    "import numpy as np\n",
    "\n",
    "# Python3 code to demonstrate\n",
    "# getting numbers from string \n",
    "# using re.findall()\n",
    "import re\n",
    "\n",
    "#exploratory data analysis\n",
    "#from pandas_profiling import ProfileReport"
   ]
  },
  {
   "cell_type": "code",
   "execution_count": 2,
   "id": "c46770aa",
   "metadata": {},
   "outputs": [],
   "source": [
    "sql_conn_creds = {\"Server\":\"SOMESQL\", \"UID\":\"MY USERNAME\", \"PWD\":\"MY PASSWORD\"}"
   ]
  },
  {
   "cell_type": "code",
   "execution_count": 3,
   "id": "f7cea9c0",
   "metadata": {},
   "outputs": [],
   "source": [
    "def df_to_csv(dataframe, csv_name):\n",
    "    csv_name = \"C:\\\\Users\\\\daltongoodwin\\\\OneDrive - Henderson Engineers Inc\\\\Documents\\\\\" + csv_name+\".csv\"\n",
    "    dataframe.to_csv(csv_name, index=False)\n",
    "    print(\"Saved\")"
   ]
  },
  {
   "cell_type": "code",
   "execution_count": 4,
   "id": "a67c72a2",
   "metadata": {},
   "outputs": [],
   "source": [
    "def db_tables(database, sql_conn_creds):\n",
    "    sql_conn = pyodbc.connect(\"Trusted_Connection=yes;\" + 'Driver={SQL Server};Server=' + sql_conn_creds.get('Server') + ';Database=master;UID=' + sql_conn_creds.get('UID') + ';PWD=' + sql_conn_creds.get('PWD') + ';')\n",
    "    cursor = sql_conn.cursor()\n",
    "    tables_l = []\n",
    "    for row in cursor.tables():\n",
    "        tables_l.append(row.table_name)\n",
    "    return tables_l"
   ]
  },
  {
   "cell_type": "code",
   "execution_count": 5,
   "id": "5e2148c3",
   "metadata": {},
   "outputs": [],
   "source": [
    "#db_tables(\"BIMData\", sql_conn_creds)"
   ]
  },
  {
   "cell_type": "code",
   "execution_count": 6,
   "id": "b44f84c8",
   "metadata": {},
   "outputs": [],
   "source": [
    "def single_db_table(database, table, sql_conn_creds):\n",
    "    sql_conn = pyodbc.connect(\"Trusted_Connection=yes;\" + 'Driver={SQL Server};Server=' + sql_conn_creds.get('Server') + ';Database=master;UID=' + sql_conn_creds.get('UID') + ';PWD=' + sql_conn_creds.get('PWD') + ';')\n",
    "    query = \"SELECT * FROM \" + database + \".dbo.\" + table\n",
    "    cursor = sql_conn.cursor()\n",
    "    return pd.read_sql(query, sql_conn)"
   ]
  },
  {
   "cell_type": "code",
   "execution_count": 7,
   "id": "eb485115",
   "metadata": {},
   "outputs": [],
   "source": [
    "def transpose(lst):\n",
    "    return list(map(list, zip(*lst)))"
   ]
  },
  {
   "cell_type": "code",
   "execution_count": 8,
   "id": "1f1d56f6",
   "metadata": {},
   "outputs": [],
   "source": [
    "#Creating the dataframe from the BIMData UsageData table. This data contains domain user name\n",
    "df = single_db_table(\"BIMData\", \"UsageData\", sql_conn_creds)"
   ]
  },
  {
   "cell_type": "code",
   "execution_count": 9,
   "id": "ea2fc167",
   "metadata": {},
   "outputs": [],
   "source": [
    "df = df[(df['LogDate'] > '2021-07-31 00:00:00')]"
   ]
  },
  {
   "cell_type": "code",
   "execution_count": 10,
   "id": "2624abf2",
   "metadata": {},
   "outputs": [],
   "source": [
    "df = df[(df['Operation'] == 'qsave') | (df['Operation'] == 'save') | (df['Operation'] == 'saveas') | (df['Operation'] == 'savetocentral')]"
   ]
  },
  {
   "cell_type": "code",
   "execution_count": 11,
   "id": "230b67da",
   "metadata": {},
   "outputs": [],
   "source": [
    "doc_path = df['DocumentPath'].to_list()\n",
    "project_num = df['ProjectNumber'].to_list()\n",
    "revit_version = df['RevitVersion'].to_list()"
   ]
  },
  {
   "cell_type": "code",
   "execution_count": 12,
   "id": "19aa734d",
   "metadata": {},
   "outputs": [],
   "source": [
    "#pars doc path string and find project number only if there is no project number\n",
    "numbers_from_path = []\n",
    "for path, num in zip(doc_path, project_num):\n",
    "    if num == None:\n",
    "        temp = re.findall(r'\\d+', path)\n",
    "        res = list(map(str, temp))\n",
    "        if len(res) > 0:\n",
    "            if len(max(res)) > 6:\n",
    "                try:\n",
    "                    numbers_from_path.append(int(max(res)))\n",
    "                except:\n",
    "                    numbers_from_path.append(max(res))\n",
    "            else: numbers_from_path.append(None)\n",
    "        else: numbers_from_path.append(None)\n",
    "    else:\n",
    "        try:\n",
    "            numbers_from_path.append(int(num))\n",
    "        except:\n",
    "            numbers_from_path.append(num)"
   ]
  },
  {
   "cell_type": "code",
   "execution_count": 13,
   "id": "ddd933c5",
   "metadata": {},
   "outputs": [],
   "source": [
    "#group revit versions and AutoCAD\n",
    "new_revit_version = []\n",
    "for software in revit_version:\n",
    "    if \"revit\" in software.lower():\n",
    "        new_revit_version.append(\"Revit\")\n",
    "    else: new_revit_version.append(\"AutoCAD\")"
   ]
  },
  {
   "cell_type": "code",
   "execution_count": 14,
   "id": "77f6ae8e",
   "metadata": {},
   "outputs": [],
   "source": [
    "#combines project number and software version into single string\n",
    "combined_num_and_software = []\n",
    "for num, software in zip(numbers_from_path, new_revit_version):\n",
    "    combined_num_and_software.append(str(num) + \", \" + software)"
   ]
  },
  {
   "cell_type": "code",
   "execution_count": 15,
   "id": "094e3f8f",
   "metadata": {},
   "outputs": [],
   "source": [
    "#get rid of the vars that have \"None\" in it\n",
    "cleaned_combined_num_and_software = []\n",
    "for i in combined_num_and_software:\n",
    "    if \"None\" not in i:\n",
    "        cleaned_combined_num_and_software.append(i)"
   ]
  },
  {
   "cell_type": "code",
   "execution_count": 16,
   "id": "d9009904",
   "metadata": {},
   "outputs": [],
   "source": [
    "revit_software = []\n",
    "autocad_software = []\n",
    "combined_num_and_software\n",
    "for i in set(cleaned_combined_num_and_software):\n",
    "    if \"AutoCAD\" in i:\n",
    "        autocad_software.append(i + \", \" + str(combined_num_and_software.count(i)))\n",
    "    else: revit_software.append(i + \", \" + str(combined_num_and_software.count(i)))"
   ]
  },
  {
   "cell_type": "code",
   "execution_count": 17,
   "id": "250626b0",
   "metadata": {},
   "outputs": [],
   "source": [
    "project_nums = []\n",
    "for i in autocad_software:\n",
    "    project_nums.append(i.split(\", \")[0])\n",
    "for i in revit_software:\n",
    "    project_nums.append(i.split(\", \")[0])\n",
    "project_nums = set(project_nums)"
   ]
  },
  {
   "cell_type": "code",
   "execution_count": 18,
   "id": "2c93f970",
   "metadata": {},
   "outputs": [],
   "source": [
    "projects_and_ver_count = []\n",
    "for num in project_nums:\n",
    "    l = [num,0,0]\n",
    "    for i in revit_software:\n",
    "        if num in i:\n",
    "            if i.split(\", \")[1] == \"Revit\":\n",
    "                l[1] = i.split(\", \")[2]\n",
    "            elif i.split(\", \")[1] == \"AutoCAD\":\n",
    "                l[2] = i.split(\", \")[2]\n",
    "    projects_and_ver_count.append(l)"
   ]
  },
  {
   "cell_type": "code",
   "execution_count": 19,
   "id": "ecd08d66",
   "metadata": {},
   "outputs": [],
   "source": [
    "project_revit_or_autocad = [[], []]\n",
    "for i in projects_and_ver_count:\n",
    "    project_revit_or_autocad[0].append(i[0])\n",
    "    if int(i[1]) > int(i[2]):\n",
    "        project_revit_or_autocad[1].append(\"Revit\")\n",
    "    else:\n",
    "        project_revit_or_autocad[1].append(\"AutoCAD\")       "
   ]
  },
  {
   "cell_type": "code",
   "execution_count": 20,
   "id": "d9b5d677",
   "metadata": {},
   "outputs": [],
   "source": [
    "project_revit_or_autocad = transpose(project_revit_or_autocad)"
   ]
  },
  {
   "cell_type": "code",
   "execution_count": 21,
   "id": "dcff0810",
   "metadata": {},
   "outputs": [],
   "source": [
    "df = pd.DataFrame.from_records(project_revit_or_autocad)\n",
    "df = df.rename(columns = {0:'ProjectNumber', 1:'Software'})"
   ]
  },
  {
   "cell_type": "code",
   "execution_count": 22,
   "id": "51e16883",
   "metadata": {},
   "outputs": [
    {
     "name": "stdout",
     "output_type": "stream",
     "text": [
      "Saved\n"
     ]
    }
   ],
   "source": [
    "df_to_csv(df, \"project_software_version\")"
   ]
  },
  {
   "cell_type": "code",
   "execution_count": 1,
   "id": "7fd8a1f3",
   "metadata": {},
   "outputs": [],
   "source": [
    "#try to use exsisting j or bim 360 model paths to update the C: cached/working Revit files  "
   ]
  }
 ],
 "metadata": {
  "kernelspec": {
   "display_name": "Python 3",
   "language": "python",
   "name": "python3"
  },
  "language_info": {
   "codemirror_mode": {
    "name": "ipython",
    "version": 3
   },
   "file_extension": ".py",
   "mimetype": "text/x-python",
   "name": "python",
   "nbconvert_exporter": "python",
   "pygments_lexer": "ipython3",
   "version": "3.8.8"
  }
 },
 "nbformat": 4,
 "nbformat_minor": 5
}
