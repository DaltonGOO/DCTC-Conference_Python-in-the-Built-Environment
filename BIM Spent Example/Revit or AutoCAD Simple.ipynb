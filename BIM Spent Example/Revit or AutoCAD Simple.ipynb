{
 "cells": [
  {
   "cell_type": "code",
   "execution_count": 18,
   "id": "068e7f3b",
   "metadata": {},
   "outputs": [],
   "source": [
    "#!pip install faker"
   ]
  },
  {
   "cell_type": "code",
   "execution_count": 37,
   "id": "26bd3c14",
   "metadata": {},
   "outputs": [],
   "source": [
    "import random\n",
    "import pandas as pd\n",
    "from faker import Faker\n",
    "fake_data = Faker()"
   ]
  },
  {
   "cell_type": "code",
   "execution_count": 12,
   "id": "dea7e02d",
   "metadata": {},
   "outputs": [],
   "source": [
    "project_numbers = []\n",
    "for i in range(1544):\n",
    "    project_numbers.append(fake_data.random_number(10))"
   ]
  },
  {
   "cell_type": "code",
   "execution_count": 32,
   "id": "7b425503",
   "metadata": {},
   "outputs": [],
   "source": [
    "software = [\"AutoCAD\",\"Revit\"]"
   ]
  },
  {
   "cell_type": "code",
   "execution_count": 34,
   "id": "bc4fcb5d",
   "metadata": {},
   "outputs": [],
   "source": [
    "project_software = []\n",
    "for i in range(1544):\n",
    "    project_software.append(random.choice(software))"
   ]
  },
  {
   "cell_type": "code",
   "execution_count": 38,
   "id": "5f814245",
   "metadata": {},
   "outputs": [],
   "source": [
    "# Dataframe example\n",
    "df = pd.DataFrame({'ProjectNumber':project_numbers,'Software':project_software})\n",
    "\n",
    "# Save dataframe as csv file in the current folder\n",
    "df.to_csv('project_software.csv', index = False, encoding='utf-8') # False: not include index"
   ]
  }
 ],
 "metadata": {
  "kernelspec": {
   "display_name": "Python 3",
   "language": "python",
   "name": "python3"
  },
  "language_info": {
   "codemirror_mode": {
    "name": "ipython",
    "version": 3
   },
   "file_extension": ".py",
   "mimetype": "text/x-python",
   "name": "python",
   "nbconvert_exporter": "python",
   "pygments_lexer": "ipython3",
   "version": "3.8.8"
  }
 },
 "nbformat": 4,
 "nbformat_minor": 5
}
